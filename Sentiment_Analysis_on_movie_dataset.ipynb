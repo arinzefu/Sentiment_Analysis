{
 "cells": [
  {
   "cell_type": "code",
   "execution_count": 1,
   "metadata": {
    "ExecuteTime": {
     "end_time": "2023-05-09T12:48:16.655877900Z",
     "start_time": "2023-05-09T12:48:09.228264500Z"
    },
    "collapsed": true
   },
   "outputs": [],
   "source": [
    "\n",
    "import pandas as pd\n",
    "import tensorflow as tf\n",
    "import numpy as np\n",
    "from tensorflow.keras.preprocessing.text import Tokenizer\n",
    "from tensorflow.keras.preprocessing.sequence import pad_sequences"
   ]
  },
  {
   "cell_type": "code",
   "execution_count": 2,
   "metadata": {
    "ExecuteTime": {
     "end_time": "2023-05-09T12:48:17.444427Z",
     "start_time": "2023-05-09T12:48:16.657877200Z"
    }
   },
   "outputs": [],
   "source": [
    "df = pd.read_csv(\"movie.csv\")"
   ]
  },
  {
   "cell_type": "code",
   "execution_count": 3,
   "metadata": {
    "ExecuteTime": {
     "end_time": "2023-05-09T12:48:17.483405800Z",
     "start_time": "2023-05-09T12:48:17.444427Z"
    }
   },
   "outputs": [
    {
     "data": {
      "text/html": [
       "<div>\n",
       "<style scoped>\n",
       "    .dataframe tbody tr th:only-of-type {\n",
       "        vertical-align: middle;\n",
       "    }\n",
       "\n",
       "    .dataframe tbody tr th {\n",
       "        vertical-align: top;\n",
       "    }\n",
       "\n",
       "    .dataframe thead th {\n",
       "        text-align: right;\n",
       "    }\n",
       "</style>\n",
       "<table border=\"1\" class=\"dataframe\">\n",
       "  <thead>\n",
       "    <tr style=\"text-align: right;\">\n",
       "      <th></th>\n",
       "      <th>text</th>\n",
       "      <th>label</th>\n",
       "    </tr>\n",
       "  </thead>\n",
       "  <tbody>\n",
       "    <tr>\n",
       "      <th>0</th>\n",
       "      <td>I grew up (b. 1965) watching and loving the Th...</td>\n",
       "      <td>0</td>\n",
       "    </tr>\n",
       "    <tr>\n",
       "      <th>1</th>\n",
       "      <td>When I put this movie in my DVD player, and sa...</td>\n",
       "      <td>0</td>\n",
       "    </tr>\n",
       "    <tr>\n",
       "      <th>2</th>\n",
       "      <td>Why do people who do not know what a particula...</td>\n",
       "      <td>0</td>\n",
       "    </tr>\n",
       "    <tr>\n",
       "      <th>3</th>\n",
       "      <td>Even though I have great interest in Biblical ...</td>\n",
       "      <td>0</td>\n",
       "    </tr>\n",
       "    <tr>\n",
       "      <th>4</th>\n",
       "      <td>Im a die hard Dads Army fan and nothing will e...</td>\n",
       "      <td>1</td>\n",
       "    </tr>\n",
       "  </tbody>\n",
       "</table>\n",
       "</div>"
      ],
      "text/plain": [
       "                                                text  label\n",
       "0  I grew up (b. 1965) watching and loving the Th...      0\n",
       "1  When I put this movie in my DVD player, and sa...      0\n",
       "2  Why do people who do not know what a particula...      0\n",
       "3  Even though I have great interest in Biblical ...      0\n",
       "4  Im a die hard Dads Army fan and nothing will e...      1"
      ]
     },
     "execution_count": 3,
     "metadata": {},
     "output_type": "execute_result"
    }
   ],
   "source": [
    "df.head()"
   ]
  },
  {
   "cell_type": "code",
   "execution_count": 4,
   "metadata": {
    "ExecuteTime": {
     "end_time": "2023-05-09T12:48:17.486404200Z",
     "start_time": "2023-05-09T12:48:17.470413700Z"
    }
   },
   "outputs": [
    {
     "data": {
      "text/plain": [
       "(40000, 2)"
      ]
     },
     "execution_count": 4,
     "metadata": {},
     "output_type": "execute_result"
    }
   ],
   "source": [
    "df.shape"
   ]
  },
  {
   "cell_type": "code",
   "execution_count": 5,
   "metadata": {
    "ExecuteTime": {
     "end_time": "2023-05-09T12:48:23.939873400Z",
     "start_time": "2023-05-09T12:48:17.484405300Z"
    }
   },
   "outputs": [
    {
     "name": "stdout",
     "output_type": "stream",
     "text": [
      "{'0': 20019, '1': 19981}\n"
     ]
    }
   ],
   "source": [
    "# Initialize label_counts dictionary\n",
    "label_counts = {'0': 0, '1': 0}\n",
    "\n",
    "# Iterate over rows of DataFrame and count labels\n",
    "for index, row in df.iterrows():\n",
    "    label = row['label']\n",
    "    label_counts[str(label)] += 1\n",
    "\n",
    "# Print label counts\n",
    "print(label_counts)"
   ]
  },
  {
   "cell_type": "code",
   "execution_count": 7,
   "metadata": {
    "ExecuteTime": {
     "end_time": "2023-05-09T12:48:24.161822300Z",
     "start_time": "2023-05-09T12:48:23.961862100Z"
    }
   },
   "outputs": [],
   "source": [
    "# Preprocess data\n",
    "df['text'] = df['text'].apply(lambda x: x.lower())  # Lowercase text\n",
    "df['text'] = df['text'].str.replace('[^\\w\\s]', '', regex=False)  # Remove punctuation"
   ]
  },
  {
   "cell_type": "code",
   "execution_count": 8,
   "metadata": {
    "ExecuteTime": {
     "end_time": "2023-05-09T12:48:24.923433200Z",
     "start_time": "2023-05-09T12:48:24.165822300Z"
    }
   },
   "outputs": [],
   "source": [
    "from sklearn.model_selection import train_test_split\n",
    "\n",
    "# Split into train and test sets\n",
    "train_size = 0.7\n",
    "test_size = 0.15\n",
    "val_size = 0.15\n",
    "\n",
    "train_df, test_df = train_test_split(df, test_size=test_size+val_size, random_state=42)\n",
    "test_df, val_df = train_test_split(test_df, test_size=val_size/(test_size+val_size), random_state=42)\n"
   ]
  },
  {
   "cell_type": "code",
   "execution_count": 9,
   "metadata": {
    "ExecuteTime": {
     "end_time": "2023-05-09T12:48:24.939523100Z",
     "start_time": "2023-05-09T12:48:24.924431400Z"
    }
   },
   "outputs": [
    {
     "name": "stdout",
     "output_type": "stream",
     "text": [
      "                                                    text  label\n",
      "38015  awful, simply awful. it proves my theory about...      0\n",
      "2281   when i first saw this film it was about 1956 a...      1\n",
      "36629  this movie is just lame. a total waste of time...      0\n",
      "6087   unless the title is supposed to be some kind o...      0\n",
      "11792  red skelton was still another major star who m...      1\n",
      "...                                                  ...    ...\n",
      "6265   this movie is one of the worst movie i have ev...      0\n",
      "11284  this movie is inspiring to anyone who is or ha...      1\n",
      "38158  \"east side story\" is a documentary of musical ...      1\n",
      "860    and a self-admitted one to boot. at one point ...      0\n",
      "15795  this movie had horrible lighting and terrible ...      0\n",
      "\n",
      "[28000 rows x 2 columns]\n"
     ]
    }
   ],
   "source": [
    "print(train_df)"
   ]
  },
  {
   "cell_type": "code",
   "execution_count": 10,
   "metadata": {
    "ExecuteTime": {
     "end_time": "2023-05-09T12:48:26.460975100Z",
     "start_time": "2023-05-09T12:48:24.942520400Z"
    }
   },
   "outputs": [
    {
     "data": {
      "image/png": "[encoded data removed]",
      "text/plain": [
       "<Figure size 640x480 with 1 Axes>"
      ]
     },
     "metadata": {},
     "output_type": "display_data"
    }
   ],
   "source": [
    "import matplotlib.pyplot as plt\n",
    "\n",
    "# Calculate the length of each sequence\n",
    "sequence_lengths = [len(seq.split()) for seq in df['text']]\n",
    "\n",
    "# Plot the distribution of sequence lengths\n",
    "plt.hist(sequence_lengths, bins=50)\n",
    "plt.show()\n"
   ]
  },
  {
   "cell_type": "code",
   "execution_count": 11,
   "metadata": {
    "ExecuteTime": {
     "end_time": "2023-05-09T12:48:26.996607400Z",
     "start_time": "2023-05-09T12:48:26.465970Z"
    }
   },
   "outputs": [],
   "source": [
    "from gensim.models import Word2Vec"
   ]
  },
  {
   "cell_type": "code",
   "execution_count": 12,
   "metadata": {
    "ExecuteTime": {
     "end_time": "2023-05-09T12:49:16.547042Z",
     "start_time": "2023-05-09T12:48:27.000632Z"
    }
   },
   "outputs": [],
   "source": [
    "# Train the Word2Vec model\n",
    "corpus = [doc.split() for doc in train_df['text']]\n",
    "Word2Vecmodel = Word2Vec(sentences=corpus, vector_size=100, window=5, min_count=5, workers=4)\n"
   ]
  },
  {
   "cell_type": "code",
   "execution_count": 13,
   "metadata": {
    "ExecuteTime": {
     "end_time": "2023-05-09T12:49:23.745933Z",
     "start_time": "2023-05-09T12:49:16.550040500Z"
    }
   },
   "outputs": [],
   "source": [
    "# Tokenize text data\n",
    "tokenizer = Tokenizer(num_words=50000, oov_token='<OOV>')\n",
    "tokenizer.fit_on_texts(train_df['text'])"
   ]
  },
  {
   "cell_type": "code",
   "execution_count": 14,
   "metadata": {
    "ExecuteTime": {
     "end_time": "2023-05-09T12:49:31.635427600Z",
     "start_time": "2023-05-09T12:49:23.746933300Z"
    }
   },
   "outputs": [],
   "source": [
    "# Convert text to sequences\n",
    "train_sequences = tokenizer.texts_to_sequences(train_df['text'])\n",
    "val_sequences = tokenizer.texts_to_sequences(val_df['text'])\n",
    "test_sequences = tokenizer.texts_to_sequences(test_df['text'])\n"
   ]
  },
  {
   "cell_type": "code",
   "execution_count": 15,
   "metadata": {
    "ExecuteTime": {
     "end_time": "2023-05-09T12:49:32.318038600Z",
     "start_time": "2023-05-09T12:49:31.638428200Z"
    }
   },
   "outputs": [],
   "source": [
    "# Pad sequences\n",
    "train_padded = pad_sequences(train_sequences, maxlen=256, truncating='post', padding='post')\n",
    "val_padded = pad_sequences(val_sequences, maxlen=256, truncating='post', padding='post')\n",
    "test_padded = pad_sequences(test_sequences, maxlen=256, truncating='post', padding='post')\n"
   ]
  },
  {
   "cell_type": "code",
   "execution_count": 16,
   "metadata": {
    "ExecuteTime": {
     "end_time": "2023-05-09T12:49:32.606873200Z",
     "start_time": "2023-05-09T12:49:32.319038500Z"
    }
   },
   "outputs": [],
   "source": [
    "# Define the vocabulary size and embedding matrix\n",
    "word_index = tokenizer.word_index\n",
    "vocab_size = len(word_index) + 1\n",
    "embedding_matrix = np.zeros((vocab_size, 100))  # Initialize embedding matrix\n",
    "for word, i in word_index.items():\n",
    "    if word in Word2Vecmodel.wv.key_to_index:\n",
    "        embedding_matrix[i] = Word2Vecmodel.wv[word]\n",
    "\n"
   ]
  },
  {
   "cell_type": "code",
   "execution_count": 17,
   "metadata": {
    "ExecuteTime": {
     "end_time": "2023-05-09T12:49:32.620866900Z",
     "start_time": "2023-05-09T12:49:32.609871100Z"
    }
   },
   "outputs": [],
   "source": [
    "#define hypermaraters\n",
    "embedding_dim = 200\n",
    "max_length = 256\n",
    "num_classes = 2"
   ]
  },
  {
   "cell_type": "code",
   "execution_count": 18,
   "metadata": {
    "ExecuteTime": {
     "end_time": "2023-05-09T12:49:33.140570400Z",
     "start_time": "2023-05-09T12:49:32.621866600Z"
    }
   },
   "outputs": [],
   "source": [
    "# Define the model\n",
    "model = tf.keras.models.Sequential([\n",
    "    tf.keras.layers.Embedding(vocab_size, embedding_dim, input_length=max_length),\n",
    "    tf.keras.layers.Dropout(0.1),\n",
    "    tf.keras.layers.Conv1D(128, 5, activation='relu'),\n",
    "    tf.keras.layers.GlobalMaxPooling1D(),\n",
    "    tf.keras.layers.Dense(64, activation='relu'),\n",
    "    tf.keras.layers.Dropout(0.1),\n",
    "    tf.keras.layers.Dense(num_classes, activation='softmax')\n",
    "])\n",
    "\n",
    "# Compile the model\n",
    "opt = tf.keras.optimizers.Adam(learning_rate=0.001)\n",
    "model.compile(loss='BinaryCrossentropy', optimizer=opt, metrics=['accuracy'])\n"
   ]
  },
  {
   "cell_type": "code",
   "execution_count": 19,
   "metadata": {
    "ExecuteTime": {
     "end_time": "2023-05-09T12:49:33.197535400Z",
     "start_time": "2023-05-09T12:49:33.143566500Z"
    }
   },
   "outputs": [
    {
     "name": "stdout",
     "output_type": "stream",
     "text": [
      "Model: \"sequential\"\n",
      "_________________________________________________________________\n",
      " Layer (type)                Output Shape              Param #   \n",
      "=================================================================\n",
      " embedding (Embedding)       (None, 256, 200)          19093400  \n",
      "                                                                 \n",
      " dropout (Dropout)           (None, 256, 200)          0         \n",
      "                                                                 \n",
      " conv1d (Conv1D)             (None, 252, 128)          128128    \n",
      "                                                                 \n",
      " global_max_pooling1d (Globa  (None, 128)              0         \n",
      " lMaxPooling1D)                                                  \n",
      "                                                                 \n",
      " dense (Dense)               (None, 64)                8256      \n",
      "                                                                 \n",
      " dropout_1 (Dropout)         (None, 64)                0         \n",
      "                                                                 \n",
      " dense_1 (Dense)             (None, 2)                 130       \n",
      "                                                                 \n",
      "=================================================================\n",
      "Total params: 19,229,914\n",
      "Trainable params: 19,229,914\n",
      "Non-trainable params: 0\n",
      "_________________________________________________________________\n"
     ]
    }
   ],
   "source": [
    "model.summary()"
   ]
  },
  {
   "cell_type": "code",
   "execution_count": 21,
   "metadata": {
    "ExecuteTime": {
     "end_time": "2023-05-09T13:53:24.939073100Z",
     "start_time": "2023-05-09T12:54:39.641793900Z"
    }
   },
   "outputs": [
    {
     "name": "stdout",
     "output_type": "stream",
     "text": [
      "Epoch 1/5\n",
      "1750/1750 [==============================] - 674s 385ms/step - loss: 0.2544 - accuracy: 0.8946 - val_loss: 0.2652 - val_accuracy: 0.8928\n",
      "Epoch 2/5\n",
      "1750/1750 [==============================] - 952s 544ms/step - loss: 0.0694 - accuracy: 0.9772 - val_loss: 0.3489 - val_accuracy: 0.8823\n",
      "Epoch 3/5\n",
      "1750/1750 [==============================] - 636s 363ms/step - loss: 0.0195 - accuracy: 0.9941 - val_loss: 0.4836 - val_accuracy: 0.8797\n",
      "Epoch 4/5\n",
      "1750/1750 [==============================] - 636s 363ms/step - loss: 0.0114 - accuracy: 0.9965 - val_loss: 0.5974 - val_accuracy: 0.8730\n",
      "Epoch 5/5\n",
      "1750/1750 [==============================] - 628s 359ms/step - loss: 0.0164 - accuracy: 0.9942 - val_loss: 0.6054 - val_accuracy: 0.8803\n"
     ]
    }
   ],
   "source": [
    "from keras.utils import to_categorical\n",
    "\n",
    "# Convert labels to one-hot encoded matrix\n",
    "train_labels = to_categorical(train_df['label'])\n",
    "val_labels = to_categorical(val_df['label'])\n",
    "\n",
    "# Train the model\n",
    "history = model.fit(train_padded, train_labels, validation_data=(val_padded, val_labels), epochs=5, batch_size=16)\n"
   ]
  },
  {
   "cell_type": "code",
   "execution_count": 23,
   "metadata": {
    "ExecuteTime": {
     "end_time": "2023-05-09T13:58:52.659763200Z",
     "start_time": "2023-05-09T13:58:45.741712600Z"
    }
   },
   "outputs": [
    {
     "name": "stdout",
     "output_type": "stream",
     "text": [
      "188/188 [==============================] - 6s 33ms/step - loss: 0.5372 - accuracy: 0.8880\n",
      "Test accuracy: 0.8880000114440918\n"
     ]
    }
   ],
   "source": [
    "# Evaluate the model on the test set\n",
    "test_labels = to_categorical(test_df['label'])\n",
    "test_loss, test_acc = model.evaluate(test_padded, test_labels)\n",
    "print('Test accuracy:', test_acc)"
   ]
  },
  {
   "cell_type": "code",
   "execution_count": 24,
   "metadata": {
    "ExecuteTime": {
     "end_time": "2023-05-09T14:03:42.243639800Z",
     "start_time": "2023-05-09T14:03:41.321573900Z"
    }
   },
   "outputs": [],
   "source": [
    "model.save('sentiment_model.h5')\n"
   ]
  },
  {
   "cell_type": "code",
   "execution_count": 35,
   "metadata": {
    "ExecuteTime": {
     "end_time": "2023-05-09T14:17:43.122707400Z",
     "start_time": "2023-05-09T14:17:42.993781Z"
    }
   },
   "outputs": [
    {
     "name": "stdout",
     "output_type": "stream",
     "text": [
      "1/1 [==============================] - 0s 50ms/step\n",
      "Negative\n"
     ]
    }
   ],
   "source": [
    "# predict sentiment for a given text\n",
    "text = \"This movie was so poorly written and directed I fell asleep 30 minutes through the movie.\"\n",
    "sequence = tokenizer.texts_to_sequences([text])\n",
    "padded_sequence = pad_sequences(sequence, maxlen=max_length, padding='post', truncating='post')\n",
    "probability = model.predict(padded_sequence)[0][0]\n",
    "\n",
    "# determine sentiment based on probability\n",
    "if probability > 0.5:\n",
    "    print(\"Negative\")\n",
    "else:\n",
    "    print(\"Positive\")\n"
   ]
  },
  {
   "cell_type": "code",
   "execution_count": 36,
   "metadata": {
    "ExecuteTime": {
     "end_time": "2023-05-09T14:20:24.328532Z",
     "start_time": "2023-05-09T14:20:20.846180800Z"
    }
   },
   "outputs": [],
   "source": [
    "import gradio as gr"
   ]
  },
  {
   "cell_type": "markdown",
   "metadata": {},
   "source": [
    "# Creating a Gradio App"
   ]
  },
  {
   "cell_type": "code",
   "execution_count": 40,
   "metadata": {
    "ExecuteTime": {
     "end_time": "2023-05-09T14:42:17.645596400Z",
     "start_time": "2023-05-09T14:42:17.607585200Z"
    }
   },
   "outputs": [],
   "source": [
    "# Define the labels\n",
    "labels = {0: 'Negative', 1: 'Positive'}\n",
    "# Define the function to predict the sentiment\n",
    "def predict_sentiment(text):\n",
    "    # Tokenize the text\n",
    "    sequences = tokenizer.texts_to_sequences([text])\n",
    "    padded = pad_sequences(sequences, maxlen=120, padding='post', truncating='post')\n",
    "\n",
    "    # Predict the sentiment\n",
    "    prediction = model.predict(padded)\n",
    "    prediction_label = labels[np.argmax(prediction)]\n",
    "\n",
    "    # Return the prediction\n",
    "    if prediction[0][0] > 0.5:\n",
    "        return \"Negative\"\n",
    "    else:\n",
    "        return \"Positive\"\n"
   ]
  },
  {
   "cell_type": "code",
   "execution_count": 42,
   "metadata": {
    "ExecuteTime": {
     "end_time": "2023-05-09T14:54:32.492160100Z",
     "start_time": "2023-05-09T14:53:49.806094900Z"
    }
   },
   "outputs": [
    {
     "name": "stderr",
     "output_type": "stream",
     "text": [
      "C:\\Users\\User\\AppData\\Local\\Programs\\Python\\Python310\\lib\\site-packages\\gradio\\inputs.py:27: UserWarning: Usage of gradio.inputs is deprecated, and will not be supported in the future, please import your component from gradio.components\n",
      "  warnings.warn(\n",
      "C:\\Users\\User\\AppData\\Local\\Programs\\Python\\Python310\\lib\\site-packages\\gradio\\deprecation.py:40: UserWarning: `optional` parameter is deprecated, and it has no effect\n",
      "  warnings.warn(value)\n",
      "C:\\Users\\User\\AppData\\Local\\Programs\\Python\\Python310\\lib\\site-packages\\gradio\\deprecation.py:40: UserWarning: `numeric` parameter is deprecated, and it has no effect\n",
      "  warnings.warn(value)\n",
      "C:\\Users\\User\\AppData\\Local\\Programs\\Python\\Python310\\lib\\site-packages\\gradio\\outputs.py:22: UserWarning: Usage of gradio.outputs is deprecated, and will not be supported in the future, please import your components from gradio.components\n",
      "  warnings.warn(\n",
      "C:\\Users\\User\\AppData\\Local\\Programs\\Python\\Python310\\lib\\site-packages\\gradio\\blocks.py:528: UserWarning: Cannot load Full Page. Caught Exception: Repo id must use alphanumeric chars or '-', '_', '.', '--' and '..' are forbidden, '-' and '.' cannot start or end the name, max length is 96: 'Full Page'.\n",
      "  warnings.warn(f\"Cannot load {theme}. Caught Exception: {str(e)}\")\n"
     ]
    },
    {
     "name": "stdout",
     "output_type": "stream",
     "text": [
      "Running on local URL:  http://127.0.0.1:7862\n",
      "Running on public URL: https://a93438268492e8667c.gradio.live\n",
      "\n",
      "This share link expires in 72 hours. For free permanent hosting and GPU upgrades (NEW!), check out Spaces: https://huggingface.co/spaces\n"
     ]
    },
    {
     "data": {
      "text/html": [
       "<div><iframe src=\"https://a93438268492e8667c.gradio.live\" width=\"100%\" height=\"500\" allow=\"autoplay; camera; microphone; clipboard-read; clipboard-write;\" frameborder=\"0\" allowfullscreen></iframe></div>"
      ],
      "text/plain": [
       "<IPython.core.display.HTML object>"
      ]
     },
     "metadata": {},
     "output_type": "display_data"
    }
   ],
   "source": [
    "# Create the Gradio interface\n",
    "input_text = gr.inputs.Textbox(lines=5, label='Enter Text')\n",
    "output_text = gr.outputs.Textbox(label='Sentiment')\n",
    "\n",
    "gr.Interface(fn=predict_sentiment, inputs=input_text, outputs=output_text, title='Sentiment Analysis For Movie Review',\n",
    "             description='Enter A Movie Review and get the Sentiment Analysis result',\n",
    "             theme='Full Page', analytics_enabled=True).launch(share=True);"
   ]
  }
 ],
 "metadata": {
  "kernelspec": {
   "display_name": "Python 3 (ipykernel)",
   "language": "python",
   "name": "python3"
  },
  "language_info": {
   "codemirror_mode": {
    "name": "ipython",
    "version": 3
   },
   "file_extension": ".py",
   "mimetype": "text/x-python",
   "name": "python",
   "nbconvert_exporter": "python",
   "pygments_lexer": "ipython3",
   "version": "3.10.10"
  }
 },
 "nbformat": 4,
 "nbformat_minor": 1
}
